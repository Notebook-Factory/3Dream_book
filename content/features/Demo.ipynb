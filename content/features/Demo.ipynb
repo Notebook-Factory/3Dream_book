{
 "cells": [
  {
   "cell_type": "markdown",
   "metadata": {},
   "source": [
    "## Visualization"
   ]
  },
  {
   "cell_type": "code",
   "execution_count": 1,
   "metadata": {
    "ExecuteTime": {
     "end_time": "2020-03-09T01:55:47.313098Z",
     "start_time": "2020-03-09T01:55:43.804912Z"
    }
   },
   "outputs": [],
   "source": [
    "import scipy.io as sio\n",
    "import plotly.graph_objs as go\n",
    "from ipywidgets import interactive, HBox, widgets, interact\n",
    "import numpy as np"
   ]
  },
  {
   "cell_type": "code",
   "execution_count": 2,
   "metadata": {
    "ExecuteTime": {
     "end_time": "2020-03-09T01:55:48.023921Z",
     "start_time": "2020-03-09T01:55:48.007801Z"
    }
   },
   "outputs": [],
   "source": [
    "matrix = sio.loadmat(file_name = \"newmap.mat\", matlab_compatible = True)\n",
    "newmap = matrix['vect']"
   ]
  },
  {
   "cell_type": "code",
   "execution_count": 3,
   "metadata": {
    "ExecuteTime": {
     "end_time": "2020-03-09T01:55:54.610391Z",
     "start_time": "2020-03-09T01:55:49.831942Z"
    }
   },
   "outputs": [
    {
     "data": {
      "application/vnd.jupyter.widget-view+json": {
       "model_id": "08e866c223a94102bb574d714f3793fc",
       "version_major": 2,
       "version_minor": 0
      },
      "text/plain": [
       "HBox(children=(FigureWidget({\n",
       "    'data': [{'autocolorscale': False,\n",
       "              'colorbar': {'title': {'tex…"
      ]
     },
     "metadata": {},
     "output_type": "display_data"
    }
   ],
   "source": [
    "colorbar_dict = {'title':\"FA [°]\"}\n",
    "# img_height = 262\n",
    "# img_widtg = 229\n",
    "zero_matrix = np.flip(newmap[:,0,:])\n",
    "\n",
    "fig = go.Figure()\n",
    "fig.add_trace(go.Heatmap(z = zero_matrix,\n",
    "                         showscale = True,\n",
    "                         autocolorscale=False,\n",
    "                         colorbar = colorbar_dict))\n",
    "fig.update_traces(overwrite=True)\n",
    "fig.update_xaxes(visible=False)\n",
    "fig.update_yaxes(visible=False)\n",
    "fig.update_layout(height=524, width=458)\n",
    "\n",
    "# Create FigureWidget from fig.\n",
    "f = go.FigureWidget(data=fig.data, layout=fig.layout)\n",
    "f.layout.title = 'Slider newmap'\n",
    "\n",
    "# Create IntSlider\n",
    "slider = widgets.IntSlider(\n",
    "    value=0,\n",
    "    min=0,\n",
    "    max=31,\n",
    "    step=1,\n",
    "    description='zpos:',\n",
    "    disabled=False,\n",
    "    continuous_update=False,\n",
    "    orientation='vertical',\n",
    "    readout=True,\n",
    "    readout_format='d'\n",
    ")\n",
    "\n",
    "slider.layout.height = '324px'\n",
    "\n",
    "# Function that will modify plot.\n",
    "def update(y):\n",
    "    f.data[0]['z'] = np.flip(newmap[:,y,:])\n",
    "    print(\"Current slice is {}\".format(y))\n",
    "    \n",
    "# Display the FigureWidget and slider with center justification.\n",
    "hb = HBox((f, interactive(update, y=slider)))\n",
    "hb.layout.align_items = 'center'\n",
    "display(hb)"
   ]
  }
 ],
 "metadata": {
  "kernelspec": {
   "display_name": "Python 3",
   "language": "python",
   "name": "python3"
  },
  "language_info": {
   "codemirror_mode": {
    "name": "ipython",
    "version": 3
   },
   "file_extension": ".py",
   "mimetype": "text/x-python",
   "name": "python",
   "nbconvert_exporter": "python",
   "pygments_lexer": "ipython3",
   "version": "3.6.9"
  },
  "latex_envs": {
   "LaTeX_envs_menu_present": true,
   "autoclose": false,
   "autocomplete": true,
   "bibliofile": "biblio.bib",
   "cite_by": "apalike",
   "current_citInitial": 1,
   "eqLabelWithNumbers": true,
   "eqNumInitial": 1,
   "hotkeys": {
    "equation": "Ctrl-E",
    "itemize": "Ctrl-I"
   },
   "labels_anchors": false,
   "latex_user_defs": false,
   "report_style_numbering": false,
   "user_envs_cfg": false
  },
  "varInspector": {
   "cols": {
    "lenName": 16,
    "lenType": 16,
    "lenVar": 40
   },
   "kernels_config": {
    "python": {
     "delete_cmd_postfix": "",
     "delete_cmd_prefix": "del ",
     "library": "var_list.py",
     "varRefreshCmd": "print(var_dic_list())"
    },
    "r": {
     "delete_cmd_postfix": ") ",
     "delete_cmd_prefix": "rm(",
     "library": "var_list.r",
     "varRefreshCmd": "cat(var_dic_list()) "
    }
   },
   "types_to_exclude": [
    "module",
    "function",
    "builtin_function_or_method",
    "instance",
    "_Feature"
   ],
   "window_display": false
  }
 },
 "nbformat": 4,
 "nbformat_minor": 2
}
